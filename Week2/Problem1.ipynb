{
  "nbformat": 4,
  "nbformat_minor": 0,
  "metadata": {
    "colab": {
      "provenance": []
    },
    "kernelspec": {
      "name": "python3",
      "display_name": "Python 3"
    },
    "language_info": {
      "name": "python"
    }
  },
  "cells": [
    {
      "cell_type": "markdown",
      "source": [
        "### Installing the qiskit module"
      ],
      "metadata": {
        "id": "tcRZ9RrZAn0a"
      }
    },
    {
      "cell_type": "code",
      "execution_count": 19,
      "metadata": {
        "colab": {
          "base_uri": "https://localhost:8080/"
        },
        "id": "cQ09CI9c8eT3",
        "outputId": "99f45b55-5bb1-45b1-ba7c-b2e7fe931f7c"
      },
      "outputs": [
        {
          "output_type": "stream",
          "name": "stdout",
          "text": [
            "       ┌───┐     ┌─┐           \n",
            "abc_0: ┤ X ├─────┤M├───────────\n",
            "       └─┬─┘┌───┐└╥┘     ┌─┐   \n",
            "abc_1: ──■──┤ X ├─╫──────┤M├───\n",
            "         │  └─┬─┘ ║ ┌───┐└╥┘┌─┐\n",
            "abc_2: ──■────■───╫─┤ X ├─╫─┤M├\n",
            "                  ║ └───┘ ║ └╥┘\n",
            "  d: 3/═══════════╩═══════╩══╩═\n",
            "                  0       1  2 \n"
          ]
        }
      ],
      "source": [
        "!pip install qiskit"
      ]
    },
    {
      "cell_type": "markdown",
      "source": [
        "## Logic\n",
        "If both $b$ and $c$ are on(equal to 1), then $a$ is toggled via the Toffoli gate. Then, if $c$ is on, b must be toggled, which is done with the Controlled NOT(CNOT) gate. Now, if c is toggled unconditionally"
      ],
      "metadata": {
        "id": "13X-UO8JBcx9"
      }
    },
    {
      "cell_type": "code",
      "source": [
        "from qiskit import QuantumCircuit, transpile, assemble, QuantumRegister,ClassicalRegister\n",
        "from qiskit.visualization import plot_histogram\n",
        "q=QuantumRegister(3,'abc')\n",
        "c=ClassicalRegister(3,'d')\n",
        "qc=QuantumCircuit(q,c)\n",
        "qc.ccx(q[1],q[2],q[0])\n",
        "qc.cx(q[2],q[1])\n",
        "qc.x(q[2])\n",
        "\n",
        "# Measure the result\n",
        "qc.measure([0,1,2],[2,1,0])\n",
        "\n",
        "# Draw the circuit\n",
        "print(qc.draw(output='text'))"
      ],
      "metadata": {
        "colab": {
          "base_uri": "https://localhost:8080/"
        },
        "id": "o0DU8Q7pAm9c",
        "outputId": "c402fe85-ff66-4ffc-e7a3-14e40ce589b5"
      },
      "execution_count": 21,
      "outputs": [
        {
          "output_type": "stream",
          "name": "stdout",
          "text": [
            "       ┌───┐     ┌─┐           \n",
            "abc_0: ┤ X ├─────┤M├───────────\n",
            "       └─┬─┘┌───┐└╥┘     ┌─┐   \n",
            "abc_1: ──■──┤ X ├─╫──────┤M├───\n",
            "         │  └─┬─┘ ║ ┌───┐└╥┘┌─┐\n",
            "abc_2: ──■────■───╫─┤ X ├─╫─┤M├\n",
            "                  ║ └───┘ ║ └╥┘\n",
            "  d: 3/═══════════╩═══════╩══╩═\n",
            "                  0       1  2 \n"
          ]
        }
      ]
    }
  ]
}