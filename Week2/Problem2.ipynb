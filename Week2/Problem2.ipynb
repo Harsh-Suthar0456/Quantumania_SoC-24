{
  "nbformat": 4,
  "nbformat_minor": 0,
  "metadata": {
    "colab": {
      "provenance": []
    },
    "kernelspec": {
      "name": "python3",
      "display_name": "Python 3"
    },
    "language_info": {
      "name": "python"
    }
  },
  "cells": [
    {
      "cell_type": "code",
      "execution_count": 2,
      "metadata": {
        "colab": {
          "base_uri": "https://localhost:8080/"
        },
        "id": "EYdNMw2pAcVz",
        "outputId": "94971ad1-5d0b-47fb-bff5-829a262efca2"
      },
      "outputs": [
        {
          "output_type": "stream",
          "name": "stdout",
          "text": [
            "Collecting qiskit\n",
            "  Downloading qiskit-1.1.1-cp38-abi3-manylinux_2_17_x86_64.manylinux2014_x86_64.whl (4.3 MB)\n",
            "\u001b[2K     \u001b[90m━━━━━━━━━━━━━━━━━━━━━━━━━━━━━━━━━━━━━━━━\u001b[0m \u001b[32m4.3/4.3 MB\u001b[0m \u001b[31m32.3 MB/s\u001b[0m eta \u001b[36m0:00:00\u001b[0m\n",
            "\u001b[?25hCollecting rustworkx>=0.14.0 (from qiskit)\n",
            "  Downloading rustworkx-0.14.2-cp310-cp310-manylinux_2_17_x86_64.manylinux2014_x86_64.whl (2.1 MB)\n",
            "\u001b[2K     \u001b[90m━━━━━━━━━━━━━━━━━━━━━━━━━━━━━━━━━━━━━━━━\u001b[0m \u001b[32m2.1/2.1 MB\u001b[0m \u001b[31m75.5 MB/s\u001b[0m eta \u001b[36m0:00:00\u001b[0m\n",
            "\u001b[?25hRequirement already satisfied: numpy<3,>=1.17 in /usr/local/lib/python3.10/dist-packages (from qiskit) (1.25.2)\n",
            "Requirement already satisfied: scipy>=1.5 in /usr/local/lib/python3.10/dist-packages (from qiskit) (1.11.4)\n",
            "Requirement already satisfied: sympy>=1.3 in /usr/local/lib/python3.10/dist-packages (from qiskit) (1.12.1)\n",
            "Collecting dill>=0.3 (from qiskit)\n",
            "  Downloading dill-0.3.8-py3-none-any.whl (116 kB)\n",
            "\u001b[2K     \u001b[90m━━━━━━━━━━━━━━━━━━━━━━━━━━━━━━━━━━━━━━━━\u001b[0m \u001b[32m116.3/116.3 kB\u001b[0m \u001b[31m15.2 MB/s\u001b[0m eta \u001b[36m0:00:00\u001b[0m\n",
            "\u001b[?25hRequirement already satisfied: python-dateutil>=2.8.0 in /usr/local/lib/python3.10/dist-packages (from qiskit) (2.8.2)\n",
            "Collecting stevedore>=3.0.0 (from qiskit)\n",
            "  Downloading stevedore-5.2.0-py3-none-any.whl (49 kB)\n",
            "\u001b[2K     \u001b[90m━━━━━━━━━━━━━━━━━━━━━━━━━━━━━━━━━━━━━━━━\u001b[0m \u001b[32m49.7/49.7 kB\u001b[0m \u001b[31m5.9 MB/s\u001b[0m eta \u001b[36m0:00:00\u001b[0m\n",
            "\u001b[?25hRequirement already satisfied: typing-extensions in /usr/local/lib/python3.10/dist-packages (from qiskit) (4.12.2)\n",
            "Collecting symengine>=0.11 (from qiskit)\n",
            "  Downloading symengine-0.11.0-cp310-cp310-manylinux_2_12_x86_64.manylinux2010_x86_64.whl (39.4 MB)\n",
            "\u001b[2K     \u001b[90m━━━━━━━━━━━━━━━━━━━━━━━━━━━━━━━━━━━━━━━━\u001b[0m \u001b[32m39.4/39.4 MB\u001b[0m \u001b[31m12.9 MB/s\u001b[0m eta \u001b[36m0:00:00\u001b[0m\n",
            "\u001b[?25hRequirement already satisfied: six>=1.5 in /usr/local/lib/python3.10/dist-packages (from python-dateutil>=2.8.0->qiskit) (1.16.0)\n",
            "Collecting pbr!=2.1.0,>=2.0.0 (from stevedore>=3.0.0->qiskit)\n",
            "  Downloading pbr-6.0.0-py2.py3-none-any.whl (107 kB)\n",
            "\u001b[2K     \u001b[90m━━━━━━━━━━━━━━━━━━━━━━━━━━━━━━━━━━━━━━━━\u001b[0m \u001b[32m107.5/107.5 kB\u001b[0m \u001b[31m12.4 MB/s\u001b[0m eta \u001b[36m0:00:00\u001b[0m\n",
            "\u001b[?25hRequirement already satisfied: mpmath<1.4.0,>=1.1.0 in /usr/local/lib/python3.10/dist-packages (from sympy>=1.3->qiskit) (1.3.0)\n",
            "Installing collected packages: symengine, rustworkx, pbr, dill, stevedore, qiskit\n",
            "Successfully installed dill-0.3.8 pbr-6.0.0 qiskit-1.1.1 rustworkx-0.14.2 stevedore-5.2.0 symengine-0.11.0\n",
            "Requirement already satisfied: qiskit in /usr/local/lib/python3.10/dist-packages (1.1.1)\n",
            "Requirement already satisfied: rustworkx>=0.14.0 in /usr/local/lib/python3.10/dist-packages (from qiskit) (0.14.2)\n",
            "Requirement already satisfied: numpy<3,>=1.17 in /usr/local/lib/python3.10/dist-packages (from qiskit) (1.25.2)\n",
            "Requirement already satisfied: scipy>=1.5 in /usr/local/lib/python3.10/dist-packages (from qiskit) (1.11.4)\n",
            "Requirement already satisfied: sympy>=1.3 in /usr/local/lib/python3.10/dist-packages (from qiskit) (1.12.1)\n",
            "Requirement already satisfied: dill>=0.3 in /usr/local/lib/python3.10/dist-packages (from qiskit) (0.3.8)\n",
            "Requirement already satisfied: python-dateutil>=2.8.0 in /usr/local/lib/python3.10/dist-packages (from qiskit) (2.8.2)\n",
            "Requirement already satisfied: stevedore>=3.0.0 in /usr/local/lib/python3.10/dist-packages (from qiskit) (5.2.0)\n",
            "Requirement already satisfied: typing-extensions in /usr/local/lib/python3.10/dist-packages (from qiskit) (4.12.2)\n",
            "Requirement already satisfied: symengine>=0.11 in /usr/local/lib/python3.10/dist-packages (from qiskit) (0.11.0)\n",
            "Requirement already satisfied: six>=1.5 in /usr/local/lib/python3.10/dist-packages (from python-dateutil>=2.8.0->qiskit) (1.16.0)\n",
            "Requirement already satisfied: pbr!=2.1.0,>=2.0.0 in /usr/local/lib/python3.10/dist-packages (from stevedore>=3.0.0->qiskit) (6.0.0)\n",
            "Requirement already satisfied: mpmath<1.4.0,>=1.1.0 in /usr/local/lib/python3.10/dist-packages (from sympy>=1.3->qiskit) (1.3.0)\n"
          ]
        }
      ],
      "source": [
        "!pip install qiskit\n",
        "!pip install qiskit --upgrade"
      ]
    },
    {
      "cell_type": "code",
      "source": [
        "from qiskit import QuantumCircuit, transpile, assemble, QuantumRegister,ClassicalRegister\n",
        "from qiskit.visualization import plot_histogram\n",
        "\n",
        "s=7\n",
        "q1=QuantumRegister(3,'abc')\n",
        "q2=QuantumRegister(3,'pqr')\n",
        "c1=ClassicalRegister(3,'c1')\n",
        "c2=ClassicalRegister(3,'c2')\n",
        "q3=QuantumRegister(2,'carry')\n",
        "\n",
        "qc=QuantumCircuit(q1,q2,q3,c1,c2)\n",
        "\n",
        "if s & 1:\n",
        "  qc.cx(q1[0],q3[0])\n",
        "  qc.cx(q1[0],q2[0])\n",
        "  qc.x(q2[0])\n",
        "else:\n",
        "  qc.cx(q1[0],q2[0])\n",
        "\n",
        "if (s>>1) & 1:\n",
        "  qc.cx(q3[0],q2[1])\n",
        "  qc.cx(q1[1],q2[1])\n",
        "  qc.x(q2[1])\n",
        "  qc.cx(q3[0],q3[1])\n",
        "  qc.cx(q1[1],q3[1])\n",
        "  qc.ccx(q1[1],q3[0],q3[1])\n",
        "else:\n",
        "  qc.cx(q3[0],q2[1])\n",
        "  qc.cx(q1[1],q2[1])\n",
        "  qc.ccx(q1[1],q3[0],q3[1])\n",
        "\n",
        "if (s>>2) & 1:\n",
        "  qc.cx(q3[1],q2[2])\n",
        "  qc.cx(q1[2],q2[2])\n",
        "  qc.x(q2[2])\n",
        "else:\n",
        "  qc.cx(q3[1],q2[2])\n",
        "  qc.cx(q1[2],q2[2])\n",
        "\n",
        "\n",
        "qc.measure(q1, c1)\n",
        "qc.measure(q2, c2)\n",
        "\n",
        "print(qc.draw(output='text'))"
      ],
      "metadata": {
        "colab": {
          "base_uri": "https://localhost:8080/"
        },
        "id": "moSHS2kvAroQ",
        "outputId": "ab0c3794-317d-46ff-da0d-d096687fc2ff"
      },
      "execution_count": 4,
      "outputs": [
        {
          "output_type": "stream",
          "name": "stdout",
          "text": [
            "                             ┌─┐                                             \n",
            "  abc_0: ──■────■────────────┤M├─────────────────────────────────────────────\n",
            "           │    │            └╥┘                          ┌─┐                \n",
            "  abc_1: ──┼────┼─────────■───╫────────■───────■──────────┤M├────────────────\n",
            "           │    │         │   ║        │       │          └╥┘          ┌─┐   \n",
            "  abc_2: ──┼────┼─────────┼───╫────────┼───────┼───────────╫───■───────┤M├───\n",
            "           │  ┌─┴─┐┌───┐  │   ║        │  ┌─┐  │           ║   │       └╥┘   \n",
            "  pqr_0: ──┼──┤ X ├┤ X ├──┼───╫────────┼──┤M├──┼───────────╫───┼────────╫────\n",
            "           │  ├───┤└───┘┌─┴─┐ ║ ┌───┐  │  └╥┘  │  ┌─┐      ║   │        ║    \n",
            "  pqr_1: ──┼──┤ X ├─────┤ X ├─╫─┤ X ├──┼───╫───┼──┤M├──────╫───┼────────╫────\n",
            "           │  └─┬─┘     └───┘ ║ └───┘  │   ║   │  └╥┘┌───┐ ║ ┌─┴─┐┌───┐ ║ ┌─┐\n",
            "  pqr_2: ──┼────┼─────────────╫────────┼───╫───┼───╫─┤ X ├─╫─┤ X ├┤ X ├─╫─┤M├\n",
            "         ┌─┴─┐  │             ║        │   ║   │   ║ └─┬─┘ ║ └───┘└───┘ ║ └╥┘\n",
            "carry_0: ┤ X ├──■────■────────╫────────┼───╫───■───╫───┼───╫────────────╫──╫─\n",
            "         └───┘     ┌─┴─┐      ║      ┌─┴─┐ ║ ┌─┴─┐ ║   │   ║            ║  ║ \n",
            "carry_1: ──────────┤ X ├──────╫──────┤ X ├─╫─┤ X ├─╫───■───╫────────────╫──╫─\n",
            "                   └───┘      ║      └───┘ ║ └───┘ ║       ║            ║  ║ \n",
            "   c1: 3/═════════════════════╩════════════╬═══════╬═══════╩════════════╩══╬═\n",
            "                              0            ║       ║       1            2  ║ \n",
            "   c2: 3/══════════════════════════════════╩═══════╩═══════════════════════╩═\n",
            "                                           0       1                       2 \n"
          ]
        }
      ]
    },
    {
      "cell_type": "code",
      "source": [
        "\n"
      ],
      "metadata": {
        "id": "j2CrzVqDEBfo"
      },
      "execution_count": null,
      "outputs": []
    }
  ]
}